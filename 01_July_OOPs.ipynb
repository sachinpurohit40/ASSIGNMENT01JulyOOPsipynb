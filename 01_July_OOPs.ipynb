{
 "cells": [
  {
   "cell_type": "markdown",
   "id": "6f6335fd",
   "metadata": {},
   "source": [
    "# Assignment 12 (july1)"
   ]
  },
  {
   "cell_type": "markdown",
   "id": "aafbee97",
   "metadata": {},
   "source": [
    "que 1 =  What is the primary goal of Object-Oriented Programming (OOP)?\n",
    "\n",
    "ans 1 =  The primary goal of Object-Oriented Programming (OOP) in Python, as in most programming languages, is to model real-world entities and their interactions in a way that promotes code organization, reusability, and maintainability. OOP in Python is based on the following key concepts:\n",
    "\n",
    "Objects: Objects are instances of classes, and they represent real-world entities or concepts. Each object encapsulates both data (attributes) and the methods (functions) that operate on that data.\n",
    "\n",
    "Classes: Classes are blueprints or templates for creating objects. They define the structure and behavior of objects. A class can have attributes (variables) and methods (functions) that are common to all objects created from it.\n",
    "\n",
    "Encapsulation: Encapsulation is the concept of bundling data (attributes) and methods (functions) that operate on that data into a single unit (i.e., a class). It hides the internal details of how a class works, allowing you to interact with objects through well-defined interfaces.\n",
    "\n",
    "Inheritance: Inheritance allows you to create a new class (subclass or derived class) based on an existing class (base class or superclass). The subclass inherits attributes and methods from the superclass, and you can extend or override them to add or modify functionality.\n",
    "\n",
    "Polymorphism: Polymorphism enables objects of different classes to be treated as objects of a common superclass. It allows you to write code that can work with objects of multiple classes in a generic way, promoting flexibility and extensibility."
   ]
  },
  {
   "cell_type": "markdown",
   "id": "9a83f37b",
   "metadata": {},
   "source": [
    "que 2 = What is an object in Python?\n",
    "\n",
    "ans 2 = In Python, an object is a fundamental concept that represents a data structure or instance of a class. Everything in Python is treated as an object, including integers, strings, lists, functions, and user-defined classes. Objects in Python have both data (attributes) and behavior (methods) associated with them.\n",
    "\n",
    "Here are some key points about objects in Python:\n",
    "\n",
    "Data and Methods: An object combines data (attributes or properties) and methods (functions associated with the object). For example, a string object not only stores the characters of the string but also provides methods for string manipulation, such as upper(), lower(), and split().\n",
    "\n",
    "Class: An object is an instance of a class. A class is a blueprint or template that defines the structure and behavior of objects. You can create multiple objects (instances) from a single class.\n",
    "\n",
    "Attributes: Attributes are variables that store data within an object. They can be accessed using dot notation, such as object.attribute. For example, if you have an object representing a person, you might have attributes like name, age, and gender.\n",
    "\n",
    "Methods: Methods are functions associated with objects. They define the behavior or actions that an object can perform. You can call methods on an object using dot notation, such as object.method(). For example, you can call the append() method on a list object to add an element to the list.\n",
    "\n",
    "Identity: Each object in Python has a unique identity, which can be obtained using the id() function. Two objects with the same data may have different identities.\n",
    "\n",
    "Type: Every object in Python has a type, which can be obtained using the type() function. The type represents the class to which the object belongs.\n",
    "    \n",
    "    eg."
   ]
  },
  {
   "cell_type": "code",
   "execution_count": 2,
   "id": "266c7636",
   "metadata": {},
   "outputs": [
    {
     "name": "stdout",
     "output_type": "stream",
     "text": [
      "10\n",
      "<class 'int'>\n",
      "4\n"
     ]
    }
   ],
   "source": [
    "# Creating an object of the built-in int class\n",
    "x = 10\n",
    "\n",
    "# Accessing the data and type of the object\n",
    "print(x)       # Output: 10\n",
    "print(type(x))  # Output: <class 'int'>\n",
    "\n",
    "# Using a method of the object\n",
    "y = x.bit_length()\n",
    "print(y)       # Output: 4 (because 10 in binary is 1010, which has 4 bits)\n"
   ]
  },
  {
   "cell_type": "markdown",
   "id": "373ad346",
   "metadata": {},
   "source": [
    "que 3 = What is a class in Python?\n",
    "\n",
    "ans 3 = In Python, a class is a blueprint or a template for creating objects (instances). It defines the structure and behavior that objects created from the class will have. Essentially, a class acts as a user-defined data type, allowing you to create your own custom types with specific attributes (data) and methods (functions).\n",
    "\n",
    "Here are some key concepts related to classes in Python:\n",
    "\n",
    "Attributes: Attributes are variables that store data within a class. They define the characteristics or properties of objects created from the class. These attributes can be accessed using dot notation when working with objects.\n",
    "\n",
    "Methods: Methods are functions defined within a class. They define the behavior or actions that objects of the class can perform. Methods can access and manipulate the attributes of the class and can also take arguments.\n",
    "\n",
    "Object (Instance): An object is an instance of a class, created based on the class's blueprint. Each object has its own set of attributes and can call the methods defined in the class.\n",
    "\n",
    "Constructor: The __init__ method, also known as the constructor, is a special method used to initialize the attributes of an object when it is created. It is called automatically when an object is created from the class.\n",
    "\n",
    "Self: Within class methods, the self keyword refers to the object itself. It is a reference to the instance of the class that the method is operating on. You use self to access attributes and call other methods of the class.\n",
    "\n",
    "Here's a simple example of a Python class:\n",
    "\n"
   ]
  },
  {
   "cell_type": "code",
   "execution_count": 4,
   "id": "5d8eab55",
   "metadata": {},
   "outputs": [
    {
     "name": "stdout",
     "output_type": "stream",
     "text": [
      "Buddy\n",
      "Labrador\n",
      "Buddy barks!\n",
      "Max barks!\n"
     ]
    }
   ],
   "source": [
    "class Dog:\n",
    "    def __init__(self, name, breed):\n",
    "        self.name = name\n",
    "        self.breed = breed\n",
    "\n",
    "    def bark(self):\n",
    "        print(f\"{self.name} barks!\")\n",
    "\n",
    "# Creating instances (objects) of the Dog class\n",
    "dog1 = Dog(\"Buddy\", \"Golden Retriever\")\n",
    "dog2 = Dog(\"Max\", \"Labrador\")\n",
    "\n",
    "# Accessing attributes and calling methods of the objects\n",
    "print(dog1.name)   # Output: Buddy\n",
    "print(dog2.breed)  # Output: Labrador\n",
    "\n",
    "dog1.bark()  # Output: Buddy barks!\n",
    "dog2.bark()  # Output: Max barks!\n"
   ]
  },
  {
   "cell_type": "markdown",
   "id": "f48840bf",
   "metadata": {},
   "source": [
    "que 4 =  What are attributes and methods in a class?\n",
    "\n",
    "ans 4 = Attributes (also known as properties or member variables):\n",
    "\n",
    "Attributes are data members of a class that represent the characteristics or properties of objects created from that class.\n",
    "They store data or state information associated with an object.\n",
    "Attributes are defined within the class and are accessed using object instances.\n",
    "Attributes can have different data types, such as integers, strings, lists, or even other objects.\n",
    "Example in Python:"
   ]
  },
  {
   "cell_type": "code",
   "execution_count": 5,
   "id": "561d36af",
   "metadata": {},
   "outputs": [
    {
     "name": "stdout",
     "output_type": "stream",
     "text": [
      "Toyota\n"
     ]
    }
   ],
   "source": [
    "class Car:\n",
    "    def __init__(self, make, model, year):\n",
    "        self.make = make       # Attribute\n",
    "        self.model = model     # Attribute\n",
    "        self.year = year       # Attribute\n",
    "\n",
    "my_car = Car(\"Toyota\", \"Camry\", 2022)\n",
    "print(my_car.make)  # Accessing an attribute\n"
   ]
  },
  {
   "cell_type": "markdown",
   "id": "22ad7ba7",
   "metadata": {},
   "source": [
    "Methods (also known as member functions):\n",
    "\n",
    "Methods are functions defined within a class that define the behavior or actions that objects created from that class can perform.\n",
    "They operate on the attributes and data associated with objects of the class.\n",
    "Methods can take parameters, perform computations, and modify the object's state.\n",
    "Methods can also be used to encapsulate the internal logic of a class, providing a way to interact with objects in a controlled manner."
   ]
  },
  {
   "cell_type": "code",
   "execution_count": 6,
   "id": "9f35d3c7",
   "metadata": {},
   "outputs": [
    {
     "name": "stdout",
     "output_type": "stream",
     "text": [
      "Starting the engine of Toyota Camry\n"
     ]
    }
   ],
   "source": [
    "class Car:\n",
    "    def __init__(self, make, model, year):\n",
    "        self.make = make\n",
    "        self.model = model\n",
    "        self.year = year\n",
    "\n",
    "    def start_engine(self):  # Method\n",
    "        print(f\"Starting the engine of {self.make} {self.model}\")\n",
    "\n",
    "my_car = Car(\"Toyota\", \"Camry\", 2022)\n",
    "my_car.start_engine()  # Calling a method\n"
   ]
  },
  {
   "cell_type": "markdown",
   "id": "23eef063",
   "metadata": {},
   "source": [
    "que5 = What is the difference between class variables and instance variables in Python?\n",
    "\n",
    "ans 5 = Class Variables:\n",
    "\n",
    "Class variables are variables that are defined within a class but outside of any methods. They are shared among all instances (objects) of the class.\n",
    "Class variables are associated with the class itself, rather than with any specific instance of the class.\n",
    "They are declared at the class level and are typically used to store data that is shared across all instances of the class.\n",
    "Class variables are accessed using the class name or through an instance of the class.\n",
    "Example:"
   ]
  },
  {
   "cell_type": "code",
   "execution_count": 7,
   "id": "3126f4ac",
   "metadata": {},
   "outputs": [
    {
     "name": "stdout",
     "output_type": "stream",
     "text": [
      "10\n",
      "10\n",
      "10\n"
     ]
    }
   ],
   "source": [
    "class MyClass:\n",
    "    class_variable = 10\n",
    "\n",
    "obj1 = MyClass()\n",
    "obj2 = MyClass()\n",
    "\n",
    "print(obj1.class_variable)  # Access class variable through an instance\n",
    "print(obj2.class_variable)\n",
    "\n",
    "print(MyClass.class_variable)  # Access class variable using the class name\n"
   ]
  },
  {
   "cell_type": "markdown",
   "id": "fd1b5e2c",
   "metadata": {},
   "source": [
    "Instance Variables:\n",
    "\n",
    "Instance variables are variables that are specific to each instance (object) of a class. They are defined within the class but inside the constructor method (__init__) using the self keyword.\n",
    "Each instance of the class has its own copy of instance variables, and they are not shared among different instances.\n",
    "Instance variables can have different values for each object created from the class."
   ]
  },
  {
   "cell_type": "code",
   "execution_count": 8,
   "id": "8e604554",
   "metadata": {},
   "outputs": [
    {
     "name": "stdout",
     "output_type": "stream",
     "text": [
      "5\n",
      "10\n"
     ]
    }
   ],
   "source": [
    "class MyClass:\n",
    "    def __init__(self, value):\n",
    "        self.instance_variable = value\n",
    "\n",
    "obj1 = MyClass(5)\n",
    "obj2 = MyClass(10)\n",
    "\n",
    "print(obj1.instance_variable)  # Access instance variable of obj1\n",
    "print(obj2.instance_variable)  # Access instance variable of obj2\n"
   ]
  },
  {
   "cell_type": "markdown",
   "id": "3e63f6ca",
   "metadata": {},
   "source": [
    "que 6 = What is the purpose of the self parameter in Python class methods?\n",
    "\n",
    "ans 6 = n Python, the self parameter in class methods is a convention used to refer to the instance of the class itself. It is the first parameter of almost all instance methods in Python classes. The purpose of the self parameter is to allow you to access and manipulate the instance's attributes and call other instance methods within the class.\n",
    "\n",
    "Here's why the self parameter is used:\n",
    "\n",
    "Accessing Instance Variables: It allows you to access the instance's attributes (also known as instance variables) within the class methods. Without self, you wouldn't be able to differentiate between instance variables and local variables within the method."
   ]
  },
  {
   "cell_type": "code",
   "execution_count": 9,
   "id": "387fa48c",
   "metadata": {},
   "outputs": [
    {
     "name": "stdout",
     "output_type": "stream",
     "text": [
      "42\n"
     ]
    }
   ],
   "source": [
    "class MyClass:\n",
    "    def __init__(self, value):\n",
    "        self.value = value\n",
    "\n",
    "    def print_value(self):\n",
    "        print(self.value)\n",
    "\n",
    "obj = MyClass(42)\n",
    "obj.print_value()  # Prints: 42\n"
   ]
  },
  {
   "cell_type": "markdown",
   "id": "4eba0e92",
   "metadata": {},
   "source": [
    "Calling Other Instance Methods: You can use self to call other instance methods of the class. This is important for code organization and reusability."
   ]
  },
  {
   "cell_type": "code",
   "execution_count": 10,
   "id": "d4390cfd",
   "metadata": {},
   "outputs": [
    {
     "name": "stdout",
     "output_type": "stream",
     "text": [
      "42\n",
      "84\n"
     ]
    }
   ],
   "source": [
    "class MyClass:\n",
    "    def __init__(self, value):\n",
    "        self.value = value\n",
    "\n",
    "    def print_value(self):\n",
    "        print(self.value)\n",
    "\n",
    "    def double_value(self):\n",
    "        return self.value * 2\n",
    "\n",
    "obj = MyClass(42)\n",
    "obj.print_value()    # Prints: 42\n",
    "doubled = obj.double_value()\n",
    "print(doubled)       # Prints: 84\n"
   ]
  },
  {
   "cell_type": "markdown",
   "id": "cdd2225c",
   "metadata": {},
   "source": [
    "Modifying Instance State: You can modify the instance's state (instance variables) within a method using self. This allows you to update the object's data."
   ]
  },
  {
   "cell_type": "code",
   "execution_count": 11,
   "id": "173fda3f",
   "metadata": {},
   "outputs": [
    {
     "name": "stdout",
     "output_type": "stream",
     "text": [
      "52\n"
     ]
    }
   ],
   "source": [
    "class MyClass:\n",
    "    def __init__(self, value):\n",
    "        self.value = value\n",
    "\n",
    "    def increment_value(self, increment):\n",
    "        self.value += increment\n",
    "\n",
    "obj = MyClass(42)\n",
    "obj.increment_value(10)\n",
    "print(obj.value)  # Prints: 52\n"
   ]
  },
  {
   "cell_type": "markdown",
   "id": "c7fbd926",
   "metadata": {},
   "source": [
    "que 7 = For a library management system, you have to design the \"Book\" class with OOP\n",
    "principles in mind. The “Book” class will have following attributes:\n",
    "    \n",
    "a. title: Represents the title of the book.\n",
    "    \n",
    "b. author: Represents the author(s) of the book.\n",
    "    \n",
    "c. isbn: Represents the ISBN (International Standard Book Number) of the book.\n",
    "    \n",
    "    \n",
    "d. publication_year: Represents the year of publication of the book.\n",
    "    \n",
    "e. available_copies: Represents the number of copies available for checkout.\n",
    "    \n",
    "The class will also include the following methods:\n",
    "    \n",
    "a. check_out(self): Decrements the available copies by one if there are copies\n",
    "    \n",
    "available for checkout.\n",
    "\n",
    "b. return_book(self): Increments the available copies by one when a book is\n",
    "returned.\n",
    "\n",
    "c. display_book_info(self): Displays the information about the book, including its\n",
    "attributes and the number of available copies.\n",
    "\n",
    "ans 7 = code"
   ]
  },
  {
   "cell_type": "code",
   "execution_count": 14,
   "id": "801185b2",
   "metadata": {},
   "outputs": [
    {
     "name": "stdout",
     "output_type": "stream",
     "text": [
      "Title: Jugalbandi\n",
      "Author(s): Vinay Sitapati\n",
      "ISBN: 978-0-143-45195-2\n",
      "Publication Year: 2020\n",
      "Available Copies: 10\n",
      "Checked out 'Jugalbandi' by Vinay Sitapati\n",
      "Returned 'Jugalbandi' by Vinay Sitapati\n",
      "Title: Har Nahi Manuga\n",
      "Author(s): Vijay Trivedi\n",
      "ISBN: 978-93-5177-761-8\n",
      "Publication Year: 2016\n",
      "Available Copies: 15\n",
      "Checked out 'Har Nahi Manuga' by Vijay Trivedi\n",
      "Checked out 'Har Nahi Manuga' by Vijay Trivedi\n",
      "Returned 'Har Nahi Manuga' by Vijay Trivedi\n"
     ]
    }
   ],
   "source": [
    "class Book:\n",
    "    def __init__(self, title, author, isbn, publication_year, available_copies):\n",
    "        self.title = title\n",
    "        self.author = author\n",
    "        self.isbn = isbn\n",
    "        self.publication_year = publication_year\n",
    "        self.available_copies = available_copies\n",
    "\n",
    "    def check_out(self):\n",
    "        if self.available_copies > 0:\n",
    "            self.available_copies -= 1\n",
    "            print(f\"Checked out '{self.title}' by {self.author}\")\n",
    "        else:\n",
    "            print(f\"No copies of '{self.title}' available for checkout\")\n",
    "\n",
    "    def return_book(self):\n",
    "        self.available_copies += 1\n",
    "        print(f\"Returned '{self.title}' by {self.author}\")\n",
    "\n",
    "    def display_book_info(self):\n",
    "        print(f\"Title: {self.title}\")\n",
    "        print(f\"Author(s): {self.author}\")\n",
    "        print(f\"ISBN: {self.isbn}\")\n",
    "        print(f\"Publication Year: {self.publication_year}\")\n",
    "        print(f\"Available Copies: {self.available_copies}\")\n",
    "\n",
    "# Example usage:\n",
    "book1 = Book(\"Jugalbandi\", \"Vinay Sitapati\", \"978-0-143-45195-2\", 2020, 10)\n",
    "book2 = Book(\"Har Nahi Manuga\", \"Vijay Trivedi\", \"978-93-5177-761-8\", 2016, 15)\n",
    "\n",
    "book1.display_book_info()\n",
    "book1.check_out()\n",
    "book1.return_book()\n",
    "\n",
    "book2.display_book_info()\n",
    "book2.check_out()\n",
    "book2.check_out()\n",
    "book2.return_book()\n"
   ]
  },
  {
   "cell_type": "markdown",
   "id": "4986750d",
   "metadata": {},
   "source": [
    "QUE 8 = For a ticket booking system, you have to design the \"Ticket\" class with OOP\n",
    "\n",
    "principles in mind. The “Ticket” class should have the following attributes:\n",
    "    \n",
    "a. ticket_id: Represents the unique identifier for the ticket.\n",
    "    \n",
    "b. event_name: Represents the name of the event.\n",
    "    \n",
    "c. event_date: Represents the date of the event.\n",
    "    \n",
    "d. venue: Represents the venue of the event.\n",
    "    \n",
    "e. seat_number: Represents the seat number associated with the ticket.\n",
    "    \n",
    "f. price: Represents the price of the ticket.\n",
    "    \n",
    "g. is_reserved: Represents the reservation status of the ticket.\n",
    "    \n",
    "The class also includes the following methods:\n",
    "    \n",
    "a. reserve_ticket(self): Marks the ticket as reserved if it is not already reserved.\n",
    "    \n",
    "b. cancel_reservation(self): Cancels the reservation of the ticket if it is already\n",
    "reserved.\n",
    "\n",
    "c. display_ticket_info(self): Displays the information about the ticket, including its\n",
    "attributes and reservation status.\n",
    "\n",
    "ANS 8 = CODE"
   ]
  },
  {
   "cell_type": "code",
   "execution_count": 15,
   "id": "bdcf6b68",
   "metadata": {},
   "outputs": [
    {
     "name": "stdout",
     "output_type": "stream",
     "text": [
      "Ticket Information:\n",
      "Ticket ID: 1\n",
      "Event Name: Concert\n",
      "Event Date: 2023-09-10\n",
      "Venue: City Jabalpur\n",
      "Seat Number: A101\n",
      "Price: $50.0\n",
      "Reservation Status: Not Reserved\n",
      "Ticket 1 has been reserved.\n",
      "Ticket Information:\n",
      "Ticket ID: 1\n",
      "Event Name: Concert\n",
      "Event Date: 2023-09-10\n",
      "Venue: City Jabalpur\n",
      "Seat Number: A101\n",
      "Price: $50.0\n",
      "Reservation Status: Reserved\n",
      "Ticket 1 is already reserved.\n",
      "Reservation for Ticket 1 has been canceled.\n",
      "Ticket Information:\n",
      "Ticket ID: 1\n",
      "Event Name: Concert\n",
      "Event Date: 2023-09-10\n",
      "Venue: City Jabalpur\n",
      "Seat Number: A101\n",
      "Price: $50.0\n",
      "Reservation Status: Not Reserved\n"
     ]
    }
   ],
   "source": [
    "class Ticket:\n",
    "    def __init__(self, ticket_id, event_name, event_date, venue, seat_number, price):\n",
    "        self.ticket_id = ticket_id\n",
    "        self.event_name = event_name\n",
    "        self.event_date = event_date\n",
    "        self.venue = venue\n",
    "        self.seat_number = seat_number\n",
    "        self.price = price\n",
    "        self.is_reserved = False\n",
    "\n",
    "    def reserve_ticket(self):\n",
    "        if not self.is_reserved:\n",
    "            self.is_reserved = True\n",
    "            print(f\"Ticket {self.ticket_id} has been reserved.\")\n",
    "        else:\n",
    "            print(f\"Ticket {self.ticket_id} is already reserved.\")\n",
    "\n",
    "    def cancel_reservation(self):\n",
    "        if self.is_reserved:\n",
    "            self.is_reserved = False\n",
    "            print(f\"Reservation for Ticket {self.ticket_id} has been canceled.\")\n",
    "        else:\n",
    "            print(f\"Ticket {self.ticket_id} is not reserved.\")\n",
    "\n",
    "    def display_ticket_info(self):\n",
    "        print(\"Ticket Information:\")\n",
    "        print(f\"Ticket ID: {self.ticket_id}\")\n",
    "        print(f\"Event Name: {self.event_name}\")\n",
    "        print(f\"Event Date: {self.event_date}\")\n",
    "        print(f\"Venue: {self.venue}\")\n",
    "        print(f\"Seat Number: {self.seat_number}\")\n",
    "        print(f\"Price: ${self.price}\")\n",
    "        if self.is_reserved:\n",
    "            print(\"Reservation Status: Reserved\")\n",
    "        else:\n",
    "            print(\"Reservation Status: Not Reserved\")\n",
    "\n",
    "# Example usage:\n",
    "ticket1 = Ticket(1, \"Concert\", \"2023-09-10\", \"City Jabalpur\", \"A101\", 50.0)\n",
    "ticket1.display_ticket_info()\n",
    "ticket1.reserve_ticket()\n",
    "ticket1.display_ticket_info()\n",
    "ticket1.reserve_ticket()\n",
    "ticket1.cancel_reservation()\n",
    "ticket1.display_ticket_info()\n"
   ]
  },
  {
   "cell_type": "markdown",
   "id": "053707f8",
   "metadata": {},
   "source": [
    "que 9 = You are creating a shopping cart for an e-commerce website. Using OOP to model\n",
    "the \"ShoppingCart\" functionality the class should contain following attributes and\n",
    "methods:\n",
    "    \n",
    "a. items: Represents the list of items in the shopping cart.\n",
    "    \n",
    "The class also includes the following methods:\n",
    "    \n",
    "\n",
    "a. add_item(self, item): Adds an item to the shopping cart by appending it to the\n",
    "list of items.\n",
    "\n",
    "b. remove_item(self, item): Removes an item from the shopping cart if it exists in\n",
    "the list.\n",
    "\n",
    "c. view_cart(self): Displays the items currently present in the shopping cart.\n",
    "    \n",
    "d. clear_cart(self): Clears all items from the shopping cart by reassigning an\n",
    "empty list to the items attribute.\n",
    "\n",
    "ans 9 = code"
   ]
  },
  {
   "cell_type": "code",
   "execution_count": 17,
   "id": "39422fbf",
   "metadata": {},
   "outputs": [
    {
     "name": "stdout",
     "output_type": "stream",
     "text": [
      "Item 1 added to the shopping cart.\n",
      "Item 2 added to the shopping cart.\n",
      "Items in the shopping cart:\n",
      "- Item 1\n",
      "- Item 2\n",
      "Item 1 removed from the shopping cart.\n",
      "Items in the shopping cart:\n",
      "- Item 2\n",
      "Shopping cart cleared.\n",
      "Your shopping cart is empty.\n"
     ]
    }
   ],
   "source": [
    "class ShoppingCart:\n",
    "    def __init__(self):\n",
    "        self.items = []\n",
    "\n",
    "    def add_item(self, item):\n",
    "        self.items.append(item)\n",
    "        print(f\"{item} added to the shopping cart.\")\n",
    "\n",
    "    def remove_item(self, item):\n",
    "        if item in self.items:\n",
    "            self.items.remove(item)\n",
    "            print(f\"{item} removed from the shopping cart.\")\n",
    "        else:\n",
    "            print(f\"{item} is not in the shopping cart.\")\n",
    "\n",
    "    def view_cart(self):\n",
    "        if not self.items:\n",
    "            print(\"Your shopping cart is empty.\")\n",
    "        else:\n",
    "            print(\"Items in the shopping cart:\")\n",
    "            for item in self.items:\n",
    "                print(f\"- {item}\")\n",
    "\n",
    "    def clear_cart(self):\n",
    "        self.items = []\n",
    "        print(\"Shopping cart cleared.\")\n",
    "\n",
    "# Example usage:\n",
    "cart = ShoppingCart()\n",
    "\n",
    "cart.add_item(\"Item 1\")\n",
    "cart.add_item(\"Item 2\")\n",
    "cart.view_cart()\n",
    "\n",
    "cart.remove_item(\"Item 1\")\n",
    "cart.view_cart()\n",
    "\n",
    "cart.clear_cart()\n",
    "cart.view_cart()\n"
   ]
  },
  {
   "cell_type": "markdown",
   "id": "4975439b",
   "metadata": {},
   "source": [
    "QUE 10 = Imagine a school management system. You have to design the \"Student\" class using\n",
    "\n",
    "OOP concepts.The “Student” class has the following attributes:\n",
    "    \n",
    "a. name: Represents the name of the student.\n",
    "    \n",
    "b. age: Represents the age of the student.\n",
    "    \n",
    "c. grade: Represents the grade or class of the student\n",
    "    .\n",
    "d. student_id: Represents the unique identifier for the student.\n",
    "    \n",
    "e. attendance: Represents the attendance record of the student.\n",
    "    \n",
    "The class should also include the following methods:\n",
    "    \n",
    "a. update_attendance(self, date, status): Updates the attendance record of the\n",
    "    \n",
    "student for a given date with the provided status (e.g., present or absent).\n",
    "\n",
    "b. get_attendance(self): Returns the attendance record of the student.\n",
    "    \n",
    "c. get_average_attendance(self): Calculates and returns the average\n",
    "    \n",
    "attendance percentage of the student based on their attendance\n",
    "\n",
    "ANS 10 = CODE"
   ]
  },
  {
   "cell_type": "code",
   "execution_count": 19,
   "id": "b26ff9bb",
   "metadata": {},
   "outputs": [],
   "source": [
    "class Student:\n",
    "    def __init__(self, name, age, grade, student_id):\n",
    "        self.name = name\n",
    "        self.age = age\n",
    "        self.grade = grade\n",
    "        self.student_id = student_id\n",
    "        self.attendance = {}  # Initialize an empty dictionary to store attendance records\n",
    "\n",
    "    def update_attendance(self, date, status):\n",
    "        \"\"\"\n",
    "        Updates the attendance record of the student for a given date with the provided status.\n",
    "        \"\"\"\n",
    "        if date not in self.attendance:\n",
    "            self.attendance[date] = status\n",
    "        else:\n",
    "            print(f\"Attendance for {date} already recorded.\")\n",
    "\n",
    "    def get_attendance(self):\n",
    "        \"\"\"\n",
    "        Returns the attendance record of the student as a dictionary.\n",
    "        \"\"\"\n",
    "        return self.attendance\n",
    "\n",
    "    def get_average_attendance(self):\n",
    "        \"\"\"\n",
    "        Calculates and returns the average attendance percentage of the student based on their attendance.\n",
    "        \"\"\"\n",
    "        if not self.attendance:\n",
    "            return 0.0  # Return 0 if there's no attendance data\n",
    "\n",
    "        total_days = len(self.attendance)\n",
    "        present_days = sum(1 for status in self.attendance.values() if status == 'present')\n",
    "        average_percentage = (present_days / total_days) * 100\n",
    "        return average_percentage\n"
   ]
  },
  {
   "cell_type": "code",
   "execution_count": 21,
   "id": "76de5f81",
   "metadata": {},
   "outputs": [
    {
     "name": "stdout",
     "output_type": "stream",
     "text": [
      "Attendance Record: {'2023-09-01': 'present', '2023-09-02': 'absent', '2023-09-03': 'present'}\n",
      "Average Attendance: 66.67%\n"
     ]
    }
   ],
   "source": [
    "# Create a student instance\n",
    "student1 = Student(\"SACHIN PUTOHIT\", 26, \"DATA SCIENCE\", \"S12345\")\n",
    "\n",
    "# Update attendance\n",
    "student1.update_attendance(\"2023-09-01\", \"present\")\n",
    "student1.update_attendance(\"2023-09-02\", \"absent\")\n",
    "student1.update_attendance(\"2023-09-03\", \"present\")\n",
    "\n",
    "# Get attendance record\n",
    "attendance_record = student1.get_attendance()\n",
    "print(\"Attendance Record:\", attendance_record)\n",
    "\n",
    "# Get average attendance\n",
    "average_attendance = student1.get_average_attendance()\n",
    "print(f\"Average Attendance: {average_attendance:.2f}%\")\n"
   ]
  },
  {
   "cell_type": "code",
   "execution_count": null,
   "id": "4e4e2c00",
   "metadata": {},
   "outputs": [],
   "source": []
  }
 ],
 "metadata": {
  "kernelspec": {
   "display_name": "Python 3 (ipykernel)",
   "language": "python",
   "name": "python3"
  },
  "language_info": {
   "codemirror_mode": {
    "name": "ipython",
    "version": 3
   },
   "file_extension": ".py",
   "mimetype": "text/x-python",
   "name": "python",
   "nbconvert_exporter": "python",
   "pygments_lexer": "ipython3",
   "version": "3.11.4"
  }
 },
 "nbformat": 4,
 "nbformat_minor": 5
}
